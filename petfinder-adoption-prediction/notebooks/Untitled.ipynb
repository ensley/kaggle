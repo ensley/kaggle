{
 "cells": [
  {
   "cell_type": "code",
   "execution_count": 1,
   "metadata": {},
   "outputs": [],
   "source": [
    "from functools import reduce\n",
    "\n",
    "import numpy as np\n",
    "import pandas as pd\n",
    "import matplotlib.pyplot as plt\n",
    "import seaborn as sns\n",
    "\n",
    "pd.set_option('display.max_columns', 999)\n",
    "\n",
    "%matplotlib notebook"
   ]
  },
  {
   "cell_type": "code",
   "execution_count": 289,
   "metadata": {},
   "outputs": [],
   "source": [
    "train = pd.read_csv('../data/train.csv', index_col='PetID')"
   ]
  },
  {
   "cell_type": "code",
   "execution_count": 290,
   "metadata": {},
   "outputs": [],
   "source": [
    "def combine_multiples(categories):\n",
    "    categories = list(set([c for c in categories if c != 0]))\n",
    "    return reduce(lambda a, b: str(a) + '_' + str(b), sorted(categories))"
   ]
  },
  {
   "cell_type": "code",
   "execution_count": 294,
   "metadata": {},
   "outputs": [],
   "source": [
    "def preprocess(data):\n",
    "    # make a copy so that the original data is not affected\n",
    "    data = data.copy()\n",
    "    # drop uninformative features\n",
    "    data = data.drop(['Name', 'RescuerID', 'Description'], axis=1)\n",
    "    # fix features that are spread over multiple columns\n",
    "    data['Breed'] = data[['Breed1', 'Breed2']].apply(combine_multiples, axis=1)\n",
    "    data['Color'] = data[['Color1', 'Color2', 'Color3']].apply(combine_multiples, axis=1)\n",
    "    data = data.drop(['Breed1', 'Breed2', 'Color1', 'Color2', 'Color3'], axis=1)\n",
    "    # transform columns to categorical type\n",
    "    category_cols = ['Type', 'Gender', 'MaturitySize', 'FurLength', \n",
    "                     'Vaccinated', 'Dewormed', 'Sterilized', 'Health', \n",
    "                     'State', 'Color', 'Breed']\n",
    "    data[category_cols] = data[category_cols].astype('category')\n",
    "    # PhotoAmt should be int\n",
    "    data['PhotoAmt'] = data['PhotoAmt'].astype(int)\n",
    "    \n",
    "    # not doing anything with breed and color for now - come back to this\n",
    "    data = data.drop(['Breed', 'Color'], axis=1)\n",
    "    \n",
    "    # perform one-hot encoding\n",
    "    cat_cols = data.select_dtypes('category').columns.drop('State')\n",
    "    ct = ColumnTransformer(\n",
    "        [('onehot', OneHotEncoder(categories='auto'), cat_cols)],\n",
    "        sparse_threshold=0,\n",
    "        remainder='passthrough'\n",
    "    )\n",
    "    data = pd.DataFrame(ct.fit_transform(data), \n",
    "                        columns=np.append(ct.transformers_[0][1].get_feature_names(input_features=cat_cols), \n",
    "                                          data.columns.drop(cat_cols)),\n",
    "                        index=data.index)\n",
    "    \n",
    "    return data"
   ]
  },
  {
   "cell_type": "code",
   "execution_count": 295,
   "metadata": {},
   "outputs": [],
   "source": [
    "train_X = train.drop('AdoptionSpeed', axis=1)\n",
    "train_y = train['AdoptionSpeed']"
   ]
  },
  {
   "cell_type": "code",
   "execution_count": 296,
   "metadata": {
    "scrolled": true
   },
   "outputs": [],
   "source": [
    "train_X = preprocess(train_X)"
   ]
  },
  {
   "cell_type": "code",
   "execution_count": 77,
   "metadata": {},
   "outputs": [],
   "source": [
    "train['Breed'] = train[['Breed1', 'Breed2']].apply(combine_multiples, axis=1)"
   ]
  },
  {
   "cell_type": "code",
   "execution_count": 78,
   "metadata": {
    "scrolled": true
   },
   "outputs": [],
   "source": [
    "train['Color'] = train[['Color1', 'Color2', 'Color3']].apply(combine_multiples, axis=1)"
   ]
  },
  {
   "cell_type": "code",
   "execution_count": 79,
   "metadata": {},
   "outputs": [],
   "source": [
    "train = train.drop(['Breed1', 'Breed2', 'Color1', 'Color2', 'Color3'], axis=1)"
   ]
  },
  {
   "cell_type": "code",
   "execution_count": 171,
   "metadata": {},
   "outputs": [],
   "source": [
    "category_cols = ['Type', 'Gender', 'MaturitySize', 'FurLength', 'Vaccinated', \n",
    "                 'Dewormed', 'Sterilized', 'Health', 'State', 'Color', 'Breed', 'AdoptionSpeed']"
   ]
  },
  {
   "cell_type": "code",
   "execution_count": 172,
   "metadata": {},
   "outputs": [],
   "source": [
    "train[category_cols] = train[category_cols].astype('category')"
   ]
  },
  {
   "cell_type": "code",
   "execution_count": 174,
   "metadata": {},
   "outputs": [],
   "source": [
    "train['PhotoAmt'] = train['PhotoAmt'].astype(int)"
   ]
  },
  {
   "cell_type": "code",
   "execution_count": 175,
   "metadata": {
    "scrolled": false
   },
   "outputs": [
    {
     "name": "stdout",
     "output_type": "stream",
     "text": [
      "<class 'pandas.core.frame.DataFrame'>\n",
      "Index: 14993 entries, 86e1089a3 to a83d95ead\n",
      "Data columns (total 17 columns):\n",
      "Type             14993 non-null category\n",
      "Age              14993 non-null int64\n",
      "Gender           14993 non-null category\n",
      "MaturitySize     14993 non-null category\n",
      "FurLength        14993 non-null category\n",
      "Vaccinated       14993 non-null category\n",
      "Dewormed         14993 non-null category\n",
      "Sterilized       14993 non-null category\n",
      "Health           14993 non-null category\n",
      "Quantity         14993 non-null int64\n",
      "Fee              14993 non-null int64\n",
      "State            14993 non-null category\n",
      "VideoAmt         14993 non-null int64\n",
      "PhotoAmt         14993 non-null int64\n",
      "AdoptionSpeed    14993 non-null category\n",
      "Breed            14993 non-null category\n",
      "Color            14993 non-null category\n",
      "dtypes: category(12), int64(5)\n",
      "memory usage: 1.5+ MB\n"
     ]
    }
   ],
   "source": [
    "train.info()"
   ]
  },
  {
   "cell_type": "code",
   "execution_count": 176,
   "metadata": {},
   "outputs": [
    {
     "data": {
      "image/png": "[encoded data removed]",
      "text/plain": [
       "<Figure size 1440x1440 with 9 Axes>"
      ]
     },
     "metadata": {
      "needs_background": "light"
     },
     "output_type": "display_data"
    }
   ],
   "source": [
    "cat_cols = train.select_dtypes('category').columns.drop(['Breed', 'Color', 'AdoptionSpeed'])\n",
    "fig, ax = plt.subplots(3, 3, figsize=(20, 20))\n",
    "for i, col in enumerate(cat_cols):\n",
    "    r = i // 3\n",
    "    c = i % 3\n",
    "    sns.countplot(train[col], ax=ax[r,c], color='steelblue')"
   ]
  },
  {
   "cell_type": "code",
   "execution_count": 88,
   "metadata": {},
   "outputs": [
    {
     "data": {
      "text/plain": [
       "<matplotlib.axes._subplots.AxesSubplot at 0x121743d68>"
      ]
     },
     "execution_count": 88,
     "metadata": {},
     "output_type": "execute_result"
    },
    {
     "data": {
      "image/png": "[encoded data removed]",
      "text/plain": [
       "<Figure size 432x288 with 1 Axes>"
      ]
     },
     "metadata": {
      "needs_background": "light"
     },
     "output_type": "display_data"
    }
   ],
   "source": [
    "sns.countplot(train['AdoptionSpeed'], color='steelblue')"
   ]
  },
  {
   "cell_type": "code",
   "execution_count": 89,
   "metadata": {},
   "outputs": [
    {
     "data": {
      "text/plain": [
       "<seaborn.axisgrid.FacetGrid at 0x12975c2e8>"
      ]
     },
     "execution_count": 89,
     "metadata": {},
     "output_type": "execute_result"
    },
    {
     "data": {
      "image/png": "[encoded data removed]",
      "text/plain": [
       "<Figure size 402.375x360 with 1 Axes>"
      ]
     },
     "metadata": {
      "needs_background": "light"
     },
     "output_type": "display_data"
    }
   ],
   "source": [
    "sns.catplot(x='Gender', y='AdoptionSpeed', hue='Type', data=train, kind='violin')"
   ]
  },
  {
   "cell_type": "code",
   "execution_count": 111,
   "metadata": {},
   "outputs": [],
   "source": [
    "from sklearn.compose import ColumnTransformer\n",
    "from sklearn.preprocessing import OneHotEncoder\n",
    "from sklearn.feature_extraction import FeatureHasher"
   ]
  },
  {
   "cell_type": "code",
   "execution_count": 130,
   "metadata": {},
   "outputs": [],
   "source": [
    "ct = ColumnTransformer(\n",
    "    [('onehot', OneHotEncoder(categories='auto'), cat_cols)],\n",
    "    sparse_threshold=0,\n",
    "    remainder='passthrough'\n",
    ")"
   ]
  },
  {
   "cell_type": "code",
   "execution_count": 131,
   "metadata": {},
   "outputs": [
    {
     "data": {
      "text/plain": [
       "Index(['Type', 'Gender', 'MaturitySize', 'FurLength', 'Vaccinated', 'Dewormed',\n",
       "       'Sterilized', 'Health', 'State'],\n",
       "      dtype='object')"
      ]
     },
     "execution_count": 131,
     "metadata": {},
     "output_type": "execute_result"
    }
   ],
   "source": [
    "cat_cols"
   ]
  },
  {
   "cell_type": "code",
   "execution_count": 133,
   "metadata": {},
   "outputs": [
    {
     "data": {
      "text/plain": [
       "array([[0.0, 1.0, 1.0, ..., 2, 299, '1_7'],\n",
       "       [0.0, 1.0, 1.0, ..., 0, 265, '1_2'],\n",
       "       [1.0, 0.0, 1.0, ..., 3, 307, '2_7'],\n",
       "       ...,\n",
       "       [0.0, 1.0, 0.0, ..., 3, '265_266', '5_6_7'],\n",
       "       [0.0, 1.0, 0.0, ..., 4, 266, '4_7'],\n",
       "       [1.0, 0.0, 1.0, ..., 3, 307, 2]], dtype=object)"
      ]
     },
     "execution_count": 133,
     "metadata": {},
     "output_type": "execute_result"
    }
   ],
   "source": [
    "ct.fit_transform(train)"
   ]
  },
  {
   "cell_type": "code",
   "execution_count": 138,
   "metadata": {},
   "outputs": [
    {
     "data": {
      "text/plain": [
       "array(['Type_1', 'Type_2', 'Gender_1', 'Gender_2', 'Gender_3',\n",
       "       'MaturitySize_1', 'MaturitySize_2', 'MaturitySize_3',\n",
       "       'MaturitySize_4', 'FurLength_1', 'FurLength_2', 'FurLength_3',\n",
       "       'Vaccinated_1', 'Vaccinated_2', 'Vaccinated_3', 'Dewormed_1',\n",
       "       'Dewormed_2', 'Dewormed_3', 'Sterilized_1', 'Sterilized_2',\n",
       "       'Sterilized_3', 'Health_1', 'Health_2', 'Health_3', 'State_41324',\n",
       "       'State_41325', 'State_41326', 'State_41327', 'State_41330',\n",
       "       'State_41332', 'State_41335', 'State_41336', 'State_41342',\n",
       "       'State_41345', 'State_41361', 'State_41367', 'State_41401',\n",
       "       'State_41415', 'Age', 'Quantity', 'Fee', 'VideoAmt', 'PhotoAmt',\n",
       "       'AdoptionSpeed', 'Breed', 'Color'], dtype=object)"
      ]
     },
     "execution_count": 138,
     "metadata": {},
     "output_type": "execute_result"
    }
   ],
   "source": [
    "np.append(ct.transformers_[0][1].get_feature_names(input_features=cat_cols), train.columns.drop(cat_cols))"
   ]
  },
  {
   "cell_type": "code",
   "execution_count": 139,
   "metadata": {
    "scrolled": true
   },
   "outputs": [],
   "source": [
    "train_encoded = pd.DataFrame(ct.fit_transform(train), \n",
    "                             columns=np.append(ct.transformers_[0][1].get_feature_names(input_features=cat_cols), train.columns.drop(cat_cols)),\n",
    "                             index=train.index)"
   ]
  },
  {
   "cell_type": "code",
   "execution_count": 142,
   "metadata": {},
   "outputs": [
    {
     "data": {
      "text/plain": [
       "(14993, 46)"
      ]
     },
     "execution_count": 142,
     "metadata": {},
     "output_type": "execute_result"
    }
   ],
   "source": [
    "train_encoded.shape"
   ]
  },
  {
   "cell_type": "code",
   "execution_count": 143,
   "metadata": {},
   "outputs": [
    {
     "data": {
      "text/html": [
       "<div>\n",
       "<style scoped>\n",
       "    .dataframe tbody tr th:only-of-type {\n",
       "        vertical-align: middle;\n",
       "    }\n",
       "\n",
       "    .dataframe tbody tr th {\n",
       "        vertical-align: top;\n",
       "    }\n",
       "\n",
       "    .dataframe thead th {\n",
       "        text-align: right;\n",
       "    }\n",
       "</style>\n",
       "<table border=\"1\" class=\"dataframe\">\n",
       "  <thead>\n",
       "    <tr style=\"text-align: right;\">\n",
       "      <th></th>\n",
       "      <th>Type_1</th>\n",
       "      <th>Type_2</th>\n",
       "      <th>Gender_1</th>\n",
       "      <th>Gender_2</th>\n",
       "      <th>Gender_3</th>\n",
       "      <th>MaturitySize_1</th>\n",
       "      <th>MaturitySize_2</th>\n",
       "      <th>MaturitySize_3</th>\n",
       "      <th>MaturitySize_4</th>\n",
       "      <th>FurLength_1</th>\n",
       "      <th>FurLength_2</th>\n",
       "      <th>FurLength_3</th>\n",
       "      <th>Vaccinated_1</th>\n",
       "      <th>Vaccinated_2</th>\n",
       "      <th>Vaccinated_3</th>\n",
       "      <th>Dewormed_1</th>\n",
       "      <th>Dewormed_2</th>\n",
       "      <th>Dewormed_3</th>\n",
       "      <th>Sterilized_1</th>\n",
       "      <th>Sterilized_2</th>\n",
       "      <th>Sterilized_3</th>\n",
       "      <th>Health_1</th>\n",
       "      <th>Health_2</th>\n",
       "      <th>Health_3</th>\n",
       "      <th>State_41324</th>\n",
       "      <th>State_41325</th>\n",
       "      <th>State_41326</th>\n",
       "      <th>State_41327</th>\n",
       "      <th>State_41330</th>\n",
       "      <th>State_41332</th>\n",
       "      <th>State_41335</th>\n",
       "      <th>State_41336</th>\n",
       "      <th>State_41342</th>\n",
       "      <th>State_41345</th>\n",
       "      <th>State_41361</th>\n",
       "      <th>State_41367</th>\n",
       "      <th>State_41401</th>\n",
       "      <th>State_41415</th>\n",
       "      <th>Age</th>\n",
       "      <th>Quantity</th>\n",
       "      <th>Fee</th>\n",
       "      <th>VideoAmt</th>\n",
       "      <th>PhotoAmt</th>\n",
       "      <th>AdoptionSpeed</th>\n",
       "      <th>Breed</th>\n",
       "      <th>Color</th>\n",
       "    </tr>\n",
       "    <tr>\n",
       "      <th>PetID</th>\n",
       "      <th></th>\n",
       "      <th></th>\n",
       "      <th></th>\n",
       "      <th></th>\n",
       "      <th></th>\n",
       "      <th></th>\n",
       "      <th></th>\n",
       "      <th></th>\n",
       "      <th></th>\n",
       "      <th></th>\n",
       "      <th></th>\n",
       "      <th></th>\n",
       "      <th></th>\n",
       "      <th></th>\n",
       "      <th></th>\n",
       "      <th></th>\n",
       "      <th></th>\n",
       "      <th></th>\n",
       "      <th></th>\n",
       "      <th></th>\n",
       "      <th></th>\n",
       "      <th></th>\n",
       "      <th></th>\n",
       "      <th></th>\n",
       "      <th></th>\n",
       "      <th></th>\n",
       "      <th></th>\n",
       "      <th></th>\n",
       "      <th></th>\n",
       "      <th></th>\n",
       "      <th></th>\n",
       "      <th></th>\n",
       "      <th></th>\n",
       "      <th></th>\n",
       "      <th></th>\n",
       "      <th></th>\n",
       "      <th></th>\n",
       "      <th></th>\n",
       "      <th></th>\n",
       "      <th></th>\n",
       "      <th></th>\n",
       "      <th></th>\n",
       "      <th></th>\n",
       "      <th></th>\n",
       "      <th></th>\n",
       "      <th></th>\n",
       "    </tr>\n",
       "  </thead>\n",
       "  <tbody>\n",
       "    <tr>\n",
       "      <th>86e1089a3</th>\n",
       "      <td>0</td>\n",
       "      <td>1</td>\n",
       "      <td>1</td>\n",
       "      <td>0</td>\n",
       "      <td>0</td>\n",
       "      <td>1</td>\n",
       "      <td>0</td>\n",
       "      <td>0</td>\n",
       "      <td>0</td>\n",
       "      <td>1</td>\n",
       "      <td>0</td>\n",
       "      <td>0</td>\n",
       "      <td>0</td>\n",
       "      <td>1</td>\n",
       "      <td>0</td>\n",
       "      <td>0</td>\n",
       "      <td>1</td>\n",
       "      <td>0</td>\n",
       "      <td>0</td>\n",
       "      <td>1</td>\n",
       "      <td>0</td>\n",
       "      <td>1</td>\n",
       "      <td>0</td>\n",
       "      <td>0</td>\n",
       "      <td>0</td>\n",
       "      <td>0</td>\n",
       "      <td>1</td>\n",
       "      <td>0</td>\n",
       "      <td>0</td>\n",
       "      <td>0</td>\n",
       "      <td>0</td>\n",
       "      <td>0</td>\n",
       "      <td>0</td>\n",
       "      <td>0</td>\n",
       "      <td>0</td>\n",
       "      <td>0</td>\n",
       "      <td>0</td>\n",
       "      <td>0</td>\n",
       "      <td>3</td>\n",
       "      <td>1</td>\n",
       "      <td>100</td>\n",
       "      <td>0</td>\n",
       "      <td>1</td>\n",
       "      <td>2</td>\n",
       "      <td>299</td>\n",
       "      <td>1_7</td>\n",
       "    </tr>\n",
       "    <tr>\n",
       "      <th>6296e909a</th>\n",
       "      <td>0</td>\n",
       "      <td>1</td>\n",
       "      <td>1</td>\n",
       "      <td>0</td>\n",
       "      <td>0</td>\n",
       "      <td>0</td>\n",
       "      <td>1</td>\n",
       "      <td>0</td>\n",
       "      <td>0</td>\n",
       "      <td>0</td>\n",
       "      <td>1</td>\n",
       "      <td>0</td>\n",
       "      <td>0</td>\n",
       "      <td>0</td>\n",
       "      <td>1</td>\n",
       "      <td>0</td>\n",
       "      <td>0</td>\n",
       "      <td>1</td>\n",
       "      <td>0</td>\n",
       "      <td>0</td>\n",
       "      <td>1</td>\n",
       "      <td>1</td>\n",
       "      <td>0</td>\n",
       "      <td>0</td>\n",
       "      <td>0</td>\n",
       "      <td>0</td>\n",
       "      <td>0</td>\n",
       "      <td>0</td>\n",
       "      <td>0</td>\n",
       "      <td>0</td>\n",
       "      <td>0</td>\n",
       "      <td>0</td>\n",
       "      <td>0</td>\n",
       "      <td>0</td>\n",
       "      <td>0</td>\n",
       "      <td>0</td>\n",
       "      <td>1</td>\n",
       "      <td>0</td>\n",
       "      <td>1</td>\n",
       "      <td>1</td>\n",
       "      <td>0</td>\n",
       "      <td>0</td>\n",
       "      <td>2</td>\n",
       "      <td>0</td>\n",
       "      <td>265</td>\n",
       "      <td>1_2</td>\n",
       "    </tr>\n",
       "    <tr>\n",
       "      <th>3422e4906</th>\n",
       "      <td>1</td>\n",
       "      <td>0</td>\n",
       "      <td>1</td>\n",
       "      <td>0</td>\n",
       "      <td>0</td>\n",
       "      <td>0</td>\n",
       "      <td>1</td>\n",
       "      <td>0</td>\n",
       "      <td>0</td>\n",
       "      <td>0</td>\n",
       "      <td>1</td>\n",
       "      <td>0</td>\n",
       "      <td>1</td>\n",
       "      <td>0</td>\n",
       "      <td>0</td>\n",
       "      <td>1</td>\n",
       "      <td>0</td>\n",
       "      <td>0</td>\n",
       "      <td>0</td>\n",
       "      <td>1</td>\n",
       "      <td>0</td>\n",
       "      <td>1</td>\n",
       "      <td>0</td>\n",
       "      <td>0</td>\n",
       "      <td>0</td>\n",
       "      <td>0</td>\n",
       "      <td>1</td>\n",
       "      <td>0</td>\n",
       "      <td>0</td>\n",
       "      <td>0</td>\n",
       "      <td>0</td>\n",
       "      <td>0</td>\n",
       "      <td>0</td>\n",
       "      <td>0</td>\n",
       "      <td>0</td>\n",
       "      <td>0</td>\n",
       "      <td>0</td>\n",
       "      <td>0</td>\n",
       "      <td>1</td>\n",
       "      <td>1</td>\n",
       "      <td>0</td>\n",
       "      <td>0</td>\n",
       "      <td>7</td>\n",
       "      <td>3</td>\n",
       "      <td>307</td>\n",
       "      <td>2_7</td>\n",
       "    </tr>\n",
       "    <tr>\n",
       "      <th>5842f1ff5</th>\n",
       "      <td>1</td>\n",
       "      <td>0</td>\n",
       "      <td>0</td>\n",
       "      <td>1</td>\n",
       "      <td>0</td>\n",
       "      <td>0</td>\n",
       "      <td>1</td>\n",
       "      <td>0</td>\n",
       "      <td>0</td>\n",
       "      <td>1</td>\n",
       "      <td>0</td>\n",
       "      <td>0</td>\n",
       "      <td>1</td>\n",
       "      <td>0</td>\n",
       "      <td>0</td>\n",
       "      <td>1</td>\n",
       "      <td>0</td>\n",
       "      <td>0</td>\n",
       "      <td>0</td>\n",
       "      <td>1</td>\n",
       "      <td>0</td>\n",
       "      <td>1</td>\n",
       "      <td>0</td>\n",
       "      <td>0</td>\n",
       "      <td>0</td>\n",
       "      <td>0</td>\n",
       "      <td>0</td>\n",
       "      <td>0</td>\n",
       "      <td>0</td>\n",
       "      <td>0</td>\n",
       "      <td>0</td>\n",
       "      <td>0</td>\n",
       "      <td>0</td>\n",
       "      <td>0</td>\n",
       "      <td>0</td>\n",
       "      <td>0</td>\n",
       "      <td>1</td>\n",
       "      <td>0</td>\n",
       "      <td>4</td>\n",
       "      <td>1</td>\n",
       "      <td>150</td>\n",
       "      <td>0</td>\n",
       "      <td>8</td>\n",
       "      <td>2</td>\n",
       "      <td>307</td>\n",
       "      <td>1_2</td>\n",
       "    </tr>\n",
       "    <tr>\n",
       "      <th>850a43f90</th>\n",
       "      <td>1</td>\n",
       "      <td>0</td>\n",
       "      <td>1</td>\n",
       "      <td>0</td>\n",
       "      <td>0</td>\n",
       "      <td>0</td>\n",
       "      <td>1</td>\n",
       "      <td>0</td>\n",
       "      <td>0</td>\n",
       "      <td>1</td>\n",
       "      <td>0</td>\n",
       "      <td>0</td>\n",
       "      <td>0</td>\n",
       "      <td>1</td>\n",
       "      <td>0</td>\n",
       "      <td>0</td>\n",
       "      <td>1</td>\n",
       "      <td>0</td>\n",
       "      <td>0</td>\n",
       "      <td>1</td>\n",
       "      <td>0</td>\n",
       "      <td>1</td>\n",
       "      <td>0</td>\n",
       "      <td>0</td>\n",
       "      <td>0</td>\n",
       "      <td>0</td>\n",
       "      <td>1</td>\n",
       "      <td>0</td>\n",
       "      <td>0</td>\n",
       "      <td>0</td>\n",
       "      <td>0</td>\n",
       "      <td>0</td>\n",
       "      <td>0</td>\n",
       "      <td>0</td>\n",
       "      <td>0</td>\n",
       "      <td>0</td>\n",
       "      <td>0</td>\n",
       "      <td>0</td>\n",
       "      <td>1</td>\n",
       "      <td>1</td>\n",
       "      <td>0</td>\n",
       "      <td>0</td>\n",
       "      <td>3</td>\n",
       "      <td>2</td>\n",
       "      <td>307</td>\n",
       "      <td>1</td>\n",
       "    </tr>\n",
       "  </tbody>\n",
       "</table>\n",
       "</div>"
      ],
      "text/plain": [
       "          Type_1 Type_2 Gender_1 Gender_2 Gender_3 MaturitySize_1  \\\n",
       "PetID                                                               \n",
       "86e1089a3      0      1        1        0        0              1   \n",
       "6296e909a      0      1        1        0        0              0   \n",
       "3422e4906      1      0        1        0        0              0   \n",
       "5842f1ff5      1      0        0        1        0              0   \n",
       "850a43f90      1      0        1        0        0              0   \n",
       "\n",
       "          MaturitySize_2 MaturitySize_3 MaturitySize_4 FurLength_1  \\\n",
       "PetID                                                                \n",
       "86e1089a3              0              0              0           1   \n",
       "6296e909a              1              0              0           0   \n",
       "3422e4906              1              0              0           0   \n",
       "5842f1ff5              1              0              0           1   \n",
       "850a43f90              1              0              0           1   \n",
       "\n",
       "          FurLength_2 FurLength_3 Vaccinated_1 Vaccinated_2 Vaccinated_3  \\\n",
       "PetID                                                                      \n",
       "86e1089a3           0           0            0            1            0   \n",
       "6296e909a           1           0            0            0            1   \n",
       "3422e4906           1           0            1            0            0   \n",
       "5842f1ff5           0           0            1            0            0   \n",
       "850a43f90           0           0            0            1            0   \n",
       "\n",
       "          Dewormed_1 Dewormed_2 Dewormed_3 Sterilized_1 Sterilized_2  \\\n",
       "PetID                                                                  \n",
       "86e1089a3          0          1          0            0            1   \n",
       "6296e909a          0          0          1            0            0   \n",
       "3422e4906          1          0          0            0            1   \n",
       "5842f1ff5          1          0          0            0            1   \n",
       "850a43f90          0          1          0            0            1   \n",
       "\n",
       "          Sterilized_3 Health_1 Health_2 Health_3 State_41324 State_41325  \\\n",
       "PetID                                                                       \n",
       "86e1089a3            0        1        0        0           0           0   \n",
       "6296e909a            1        1        0        0           0           0   \n",
       "3422e4906            0        1        0        0           0           0   \n",
       "5842f1ff5            0        1        0        0           0           0   \n",
       "850a43f90            0        1        0        0           0           0   \n",
       "\n",
       "          State_41326 State_41327 State_41330 State_41332 State_41335  \\\n",
       "PetID                                                                   \n",
       "86e1089a3           1           0           0           0           0   \n",
       "6296e909a           0           0           0           0           0   \n",
       "3422e4906           1           0           0           0           0   \n",
       "5842f1ff5           0           0           0           0           0   \n",
       "850a43f90           1           0           0           0           0   \n",
       "\n",
       "          State_41336 State_41342 State_41345 State_41361 State_41367  \\\n",
       "PetID                                                                   \n",
       "86e1089a3           0           0           0           0           0   \n",
       "6296e909a           0           0           0           0           0   \n",
       "3422e4906           0           0           0           0           0   \n",
       "5842f1ff5           0           0           0           0           0   \n",
       "850a43f90           0           0           0           0           0   \n",
       "\n",
       "          State_41401 State_41415 Age Quantity  Fee VideoAmt PhotoAmt  \\\n",
       "PetID                                                                   \n",
       "86e1089a3           0           0   3        1  100        0        1   \n",
       "6296e909a           1           0   1        1    0        0        2   \n",
       "3422e4906           0           0   1        1    0        0        7   \n",
       "5842f1ff5           1           0   4        1  150        0        8   \n",
       "850a43f90           0           0   1        1    0        0        3   \n",
       "\n",
       "          AdoptionSpeed Breed Color  \n",
       "PetID                                \n",
       "86e1089a3             2   299   1_7  \n",
       "6296e909a             0   265   1_2  \n",
       "3422e4906             3   307   2_7  \n",
       "5842f1ff5             2   307   1_2  \n",
       "850a43f90             2   307     1  "
      ]
     },
     "execution_count": 143,
     "metadata": {},
     "output_type": "execute_result"
    }
   ],
   "source": [
    "train_encoded.head()"
   ]
  },
  {
   "cell_type": "code",
   "execution_count": 203,
   "metadata": {},
   "outputs": [],
   "source": [
    "from sklearn.ensemble import RandomForestClassifier\n",
    "from sklearn.metrics import cohen_kappa_score, make_scorer, confusion_matrix\n",
    "from sklearn.model_selection import cross_val_score, GridSearchCV"
   ]
  },
  {
   "cell_type": "code",
   "execution_count": 158,
   "metadata": {},
   "outputs": [],
   "source": [
    "all_X = train_encoded.drop('AdoptionSpeed', axis=1)\n",
    "all_y = train_encoded['AdoptionSpeed'].astype(str)"
   ]
  },
  {
   "cell_type": "code",
   "execution_count": 315,
   "metadata": {},
   "outputs": [],
   "source": [
    "rf = RandomForestClassifier(n_estimators=100, class_weight='balanced')"
   ]
  },
  {
   "cell_type": "code",
   "execution_count": 316,
   "metadata": {},
   "outputs": [],
   "source": [
    "param_grid = {\n",
    "    'max_depth': [7, 15, 21, 27, 31],\n",
    "    'min_samples_split': [2, 4, 6, 8]\n",
    "}"
   ]
  },
  {
   "cell_type": "code",
   "execution_count": 317,
   "metadata": {},
   "outputs": [],
   "source": [
    "gs = GridSearchCV(rf,\n",
    "                  param_grid=param_grid,\n",
    "                  scoring=make_scorer(cohen_kappa_score, weights='quadratic'),\n",
    "                  cv=10,\n",
    "                  verbose=2,\n",
    "                  n_jobs=-1)"
   ]
  },
  {
   "cell_type": "code",
   "execution_count": 318,
   "metadata": {
    "scrolled": true
   },
   "outputs": [
    {
     "name": "stdout",
     "output_type": "stream",
     "text": [
      "Fitting 10 folds for each of 20 candidates, totalling 200 fits\n"
     ]
    },
    {
     "name": "stderr",
     "output_type": "stream",
     "text": [
      "[Parallel(n_jobs=-1)]: Using backend LokyBackend with 8 concurrent workers.\n",
      "[Parallel(n_jobs=-1)]: Done  25 tasks      | elapsed:   12.4s\n",
      "[Parallel(n_jobs=-1)]: Done 146 tasks      | elapsed:   44.4s\n",
      "[Parallel(n_jobs=-1)]: Done 200 out of 200 | elapsed:   59.5s finished\n"
     ]
    },
    {
     "data": {
      "text/plain": [
       "GridSearchCV(cv=10, error_score='raise-deprecating',\n",
       "             estimator=RandomForestClassifier(bootstrap=True,\n",
       "                                              class_weight='balanced',\n",
       "                                              criterion='gini', max_depth=None,\n",
       "                                              max_features='auto',\n",
       "                                              max_leaf_nodes=None,\n",
       "                                              min_impurity_decrease=0.0,\n",
       "                                              min_impurity_split=None,\n",
       "                                              min_samples_leaf=1,\n",
       "                                              min_samples_split=2,\n",
       "                                              min_weight_fraction_leaf=0.0,\n",
       "                                              n_estimators=100, n_jobs=None,\n",
       "                                              oob_score=False,\n",
       "                                              random_state=None, verbose=0,\n",
       "                                              warm_start=False),\n",
       "             iid='warn', n_jobs=-1,\n",
       "             param_grid={'max_depth': [7, 15, 21, 27, 31],\n",
       "                         'min_samples_split': [2, 4, 6, 8]},\n",
       "             pre_dispatch='2*n_jobs', refit=True, return_train_score=False,\n",
       "             scoring=make_scorer(cohen_kappa_score, weights=quadratic),\n",
       "             verbose=2)"
      ]
     },
     "execution_count": 318,
     "metadata": {},
     "output_type": "execute_result"
    }
   ],
   "source": [
    "gs.fit(train_X, train_y)"
   ]
  },
  {
   "cell_type": "code",
   "execution_count": 319,
   "metadata": {},
   "outputs": [
    {
     "data": {
      "text/plain": [
       "0.29850769756603235"
      ]
     },
     "execution_count": 319,
     "metadata": {},
     "output_type": "execute_result"
    }
   ],
   "source": [
    "gs.best_score_"
   ]
  },
  {
   "cell_type": "code",
   "execution_count": 320,
   "metadata": {},
   "outputs": [
    {
     "data": {
      "text/plain": [
       "{'max_depth': 15, 'min_samples_split': 4}"
      ]
     },
     "execution_count": 320,
     "metadata": {},
     "output_type": "execute_result"
    }
   ],
   "source": [
    "gs.best_params_"
   ]
  },
  {
   "cell_type": "code",
   "execution_count": 321,
   "metadata": {},
   "outputs": [],
   "source": [
    "pred_y = gs.best_estimator_.predict(train_X)"
   ]
  },
  {
   "cell_type": "code",
   "execution_count": 322,
   "metadata": {},
   "outputs": [
    {
     "data": {
      "text/plain": [
       "array([[ 376,   16,    8,    6,    4],\n",
       "       [  98, 2357,  210,  172,  253],\n",
       "       [ 106,  568, 2547,  349,  467],\n",
       "       [  69,  348,  231, 2229,  382],\n",
       "       [  97,  277,  208,  191, 3424]])"
      ]
     },
     "execution_count": 322,
     "metadata": {},
     "output_type": "execute_result"
    }
   ],
   "source": [
    "confusion_matrix(train_y, pred_y)"
   ]
  },
  {
   "cell_type": "code",
   "execution_count": 323,
   "metadata": {},
   "outputs": [
    {
     "data": {
      "text/plain": [
       "0.6828149219923298"
      ]
     },
     "execution_count": 323,
     "metadata": {},
     "output_type": "execute_result"
    }
   ],
   "source": [
    "cohen_kappa_score(train_y, pred_y, weights='quadratic')"
   ]
  },
  {
   "cell_type": "code",
   "execution_count": 307,
   "metadata": {},
   "outputs": [],
   "source": [
    "test = pd.read_csv('../data/test/test.csv', index_col='PetID')"
   ]
  },
  {
   "cell_type": "code",
   "execution_count": 308,
   "metadata": {
    "scrolled": true
   },
   "outputs": [],
   "source": [
    "test_X = preprocess(test)"
   ]
  },
  {
   "cell_type": "code",
   "execution_count": 309,
   "metadata": {
    "scrolled": true
   },
   "outputs": [],
   "source": [
    "test_pred = gs.best_estimator_.predict(test_X)"
   ]
  },
  {
   "cell_type": "code",
   "execution_count": 314,
   "metadata": {},
   "outputs": [],
   "source": [
    "pd.DataFrame(test_pred, columns=['AdoptionSpeed'], index=test_X.index).to_csv('../data/submission.csv')"
   ]
  },
  {
   "cell_type": "code",
   "execution_count": 324,
   "metadata": {},
   "outputs": [
    {
     "data": {
      "text/html": [
       "<div>\n",
       "<style scoped>\n",
       "    .dataframe tbody tr th:only-of-type {\n",
       "        vertical-align: middle;\n",
       "    }\n",
       "\n",
       "    .dataframe tbody tr th {\n",
       "        vertical-align: top;\n",
       "    }\n",
       "\n",
       "    .dataframe thead th {\n",
       "        text-align: right;\n",
       "    }\n",
       "</style>\n",
       "<table border=\"1\" class=\"dataframe\">\n",
       "  <thead>\n",
       "    <tr style=\"text-align: right;\">\n",
       "      <th></th>\n",
       "      <th>Type_1</th>\n",
       "      <th>Type_2</th>\n",
       "      <th>Gender_1</th>\n",
       "      <th>Gender_2</th>\n",
       "      <th>Gender_3</th>\n",
       "      <th>MaturitySize_1</th>\n",
       "      <th>MaturitySize_2</th>\n",
       "      <th>MaturitySize_3</th>\n",
       "      <th>MaturitySize_4</th>\n",
       "      <th>FurLength_1</th>\n",
       "      <th>FurLength_2</th>\n",
       "      <th>FurLength_3</th>\n",
       "      <th>Vaccinated_1</th>\n",
       "      <th>Vaccinated_2</th>\n",
       "      <th>Vaccinated_3</th>\n",
       "      <th>Dewormed_1</th>\n",
       "      <th>Dewormed_2</th>\n",
       "      <th>Dewormed_3</th>\n",
       "      <th>Sterilized_1</th>\n",
       "      <th>Sterilized_2</th>\n",
       "      <th>Sterilized_3</th>\n",
       "      <th>Health_1</th>\n",
       "      <th>Health_2</th>\n",
       "      <th>Health_3</th>\n",
       "      <th>Age</th>\n",
       "      <th>Quantity</th>\n",
       "      <th>Fee</th>\n",
       "      <th>State</th>\n",
       "      <th>VideoAmt</th>\n",
       "      <th>PhotoAmt</th>\n",
       "    </tr>\n",
       "    <tr>\n",
       "      <th>PetID</th>\n",
       "      <th></th>\n",
       "      <th></th>\n",
       "      <th></th>\n",
       "      <th></th>\n",
       "      <th></th>\n",
       "      <th></th>\n",
       "      <th></th>\n",
       "      <th></th>\n",
       "      <th></th>\n",
       "      <th></th>\n",
       "      <th></th>\n",
       "      <th></th>\n",
       "      <th></th>\n",
       "      <th></th>\n",
       "      <th></th>\n",
       "      <th></th>\n",
       "      <th></th>\n",
       "      <th></th>\n",
       "      <th></th>\n",
       "      <th></th>\n",
       "      <th></th>\n",
       "      <th></th>\n",
       "      <th></th>\n",
       "      <th></th>\n",
       "      <th></th>\n",
       "      <th></th>\n",
       "      <th></th>\n",
       "      <th></th>\n",
       "      <th></th>\n",
       "      <th></th>\n",
       "    </tr>\n",
       "  </thead>\n",
       "  <tbody>\n",
       "    <tr>\n",
       "      <th>86e1089a3</th>\n",
       "      <td>0</td>\n",
       "      <td>1</td>\n",
       "      <td>1</td>\n",
       "      <td>0</td>\n",
       "      <td>0</td>\n",
       "      <td>1</td>\n",
       "      <td>0</td>\n",
       "      <td>0</td>\n",
       "      <td>0</td>\n",
       "      <td>1</td>\n",
       "      <td>0</td>\n",
       "      <td>0</td>\n",
       "      <td>0</td>\n",
       "      <td>1</td>\n",
       "      <td>0</td>\n",
       "      <td>0</td>\n",
       "      <td>1</td>\n",
       "      <td>0</td>\n",
       "      <td>0</td>\n",
       "      <td>1</td>\n",
       "      <td>0</td>\n",
       "      <td>1</td>\n",
       "      <td>0</td>\n",
       "      <td>0</td>\n",
       "      <td>3</td>\n",
       "      <td>1</td>\n",
       "      <td>100</td>\n",
       "      <td>41326</td>\n",
       "      <td>0</td>\n",
       "      <td>1</td>\n",
       "    </tr>\n",
       "    <tr>\n",
       "      <th>6296e909a</th>\n",
       "      <td>0</td>\n",
       "      <td>1</td>\n",
       "      <td>1</td>\n",
       "      <td>0</td>\n",
       "      <td>0</td>\n",
       "      <td>0</td>\n",
       "      <td>1</td>\n",
       "      <td>0</td>\n",
       "      <td>0</td>\n",
       "      <td>0</td>\n",
       "      <td>1</td>\n",
       "      <td>0</td>\n",
       "      <td>0</td>\n",
       "      <td>0</td>\n",
       "      <td>1</td>\n",
       "      <td>0</td>\n",
       "      <td>0</td>\n",
       "      <td>1</td>\n",
       "      <td>0</td>\n",
       "      <td>0</td>\n",
       "      <td>1</td>\n",
       "      <td>1</td>\n",
       "      <td>0</td>\n",
       "      <td>0</td>\n",
       "      <td>1</td>\n",
       "      <td>1</td>\n",
       "      <td>0</td>\n",
       "      <td>41401</td>\n",
       "      <td>0</td>\n",
       "      <td>2</td>\n",
       "    </tr>\n",
       "    <tr>\n",
       "      <th>3422e4906</th>\n",
       "      <td>1</td>\n",
       "      <td>0</td>\n",
       "      <td>1</td>\n",
       "      <td>0</td>\n",
       "      <td>0</td>\n",
       "      <td>0</td>\n",
       "      <td>1</td>\n",
       "      <td>0</td>\n",
       "      <td>0</td>\n",
       "      <td>0</td>\n",
       "      <td>1</td>\n",
       "      <td>0</td>\n",
       "      <td>1</td>\n",
       "      <td>0</td>\n",
       "      <td>0</td>\n",
       "      <td>1</td>\n",
       "      <td>0</td>\n",
       "      <td>0</td>\n",
       "      <td>0</td>\n",
       "      <td>1</td>\n",
       "      <td>0</td>\n",
       "      <td>1</td>\n",
       "      <td>0</td>\n",
       "      <td>0</td>\n",
       "      <td>1</td>\n",
       "      <td>1</td>\n",
       "      <td>0</td>\n",
       "      <td>41326</td>\n",
       "      <td>0</td>\n",
       "      <td>7</td>\n",
       "    </tr>\n",
       "    <tr>\n",
       "      <th>5842f1ff5</th>\n",
       "      <td>1</td>\n",
       "      <td>0</td>\n",
       "      <td>0</td>\n",
       "      <td>1</td>\n",
       "      <td>0</td>\n",
       "      <td>0</td>\n",
       "      <td>1</td>\n",
       "      <td>0</td>\n",
       "      <td>0</td>\n",
       "      <td>1</td>\n",
       "      <td>0</td>\n",
       "      <td>0</td>\n",
       "      <td>1</td>\n",
       "      <td>0</td>\n",
       "      <td>0</td>\n",
       "      <td>1</td>\n",
       "      <td>0</td>\n",
       "      <td>0</td>\n",
       "      <td>0</td>\n",
       "      <td>1</td>\n",
       "      <td>0</td>\n",
       "      <td>1</td>\n",
       "      <td>0</td>\n",
       "      <td>0</td>\n",
       "      <td>4</td>\n",
       "      <td>1</td>\n",
       "      <td>150</td>\n",
       "      <td>41401</td>\n",
       "      <td>0</td>\n",
       "      <td>8</td>\n",
       "    </tr>\n",
       "    <tr>\n",
       "      <th>850a43f90</th>\n",
       "      <td>1</td>\n",
       "      <td>0</td>\n",
       "      <td>1</td>\n",
       "      <td>0</td>\n",
       "      <td>0</td>\n",
       "      <td>0</td>\n",
       "      <td>1</td>\n",
       "      <td>0</td>\n",
       "      <td>0</td>\n",
       "      <td>1</td>\n",
       "      <td>0</td>\n",
       "      <td>0</td>\n",
       "      <td>0</td>\n",
       "      <td>1</td>\n",
       "      <td>0</td>\n",
       "      <td>0</td>\n",
       "      <td>1</td>\n",
       "      <td>0</td>\n",
       "      <td>0</td>\n",
       "      <td>1</td>\n",
       "      <td>0</td>\n",
       "      <td>1</td>\n",
       "      <td>0</td>\n",
       "      <td>0</td>\n",
       "      <td>1</td>\n",
       "      <td>1</td>\n",
       "      <td>0</td>\n",
       "      <td>41326</td>\n",
       "      <td>0</td>\n",
       "      <td>3</td>\n",
       "    </tr>\n",
       "  </tbody>\n",
       "</table>\n",
       "</div>"
      ],
      "text/plain": [
       "          Type_1 Type_2 Gender_1 Gender_2 Gender_3 MaturitySize_1  \\\n",
       "PetID                                                               \n",
       "86e1089a3      0      1        1        0        0              1   \n",
       "6296e909a      0      1        1        0        0              0   \n",
       "3422e4906      1      0        1        0        0              0   \n",
       "5842f1ff5      1      0        0        1        0              0   \n",
       "850a43f90      1      0        1        0        0              0   \n",
       "\n",
       "          MaturitySize_2 MaturitySize_3 MaturitySize_4 FurLength_1  \\\n",
       "PetID                                                                \n",
       "86e1089a3              0              0              0           1   \n",
       "6296e909a              1              0              0           0   \n",
       "3422e4906              1              0              0           0   \n",
       "5842f1ff5              1              0              0           1   \n",
       "850a43f90              1              0              0           1   \n",
       "\n",
       "          FurLength_2 FurLength_3 Vaccinated_1 Vaccinated_2 Vaccinated_3  \\\n",
       "PetID                                                                      \n",
       "86e1089a3           0           0            0            1            0   \n",
       "6296e909a           1           0            0            0            1   \n",
       "3422e4906           1           0            1            0            0   \n",
       "5842f1ff5           0           0            1            0            0   \n",
       "850a43f90           0           0            0            1            0   \n",
       "\n",
       "          Dewormed_1 Dewormed_2 Dewormed_3 Sterilized_1 Sterilized_2  \\\n",
       "PetID                                                                  \n",
       "86e1089a3          0          1          0            0            1   \n",
       "6296e909a          0          0          1            0            0   \n",
       "3422e4906          1          0          0            0            1   \n",
       "5842f1ff5          1          0          0            0            1   \n",
       "850a43f90          0          1          0            0            1   \n",
       "\n",
       "          Sterilized_3 Health_1 Health_2 Health_3 Age Quantity  Fee  State  \\\n",
       "PetID                                                                        \n",
       "86e1089a3            0        1        0        0   3        1  100  41326   \n",
       "6296e909a            1        1        0        0   1        1    0  41401   \n",
       "3422e4906            0        1        0        0   1        1    0  41326   \n",
       "5842f1ff5            0        1        0        0   4        1  150  41401   \n",
       "850a43f90            0        1        0        0   1        1    0  41326   \n",
       "\n",
       "          VideoAmt PhotoAmt  \n",
       "PetID                        \n",
       "86e1089a3        0        1  \n",
       "6296e909a        0        2  \n",
       "3422e4906        0        7  \n",
       "5842f1ff5        0        8  \n",
       "850a43f90        0        3  "
      ]
     },
     "execution_count": 324,
     "metadata": {},
     "output_type": "execute_result"
    }
   ],
   "source": [
    "train_X.head()"
   ]
  },
  {
   "cell_type": "code",
   "execution_count": null,
   "metadata": {},
   "outputs": [],
   "source": []
  }
 ],
 "metadata": {
  "kernelspec": {
   "display_name": "Python 3",
   "language": "python",
   "name": "python3"
  },
  "language_info": {
   "codemirror_mode": {
    "name": "ipython",
    "version": 3
   },
   "file_extension": ".py",
   "mimetype": "text/x-python",
   "name": "python",
   "nbconvert_exporter": "python",
   "pygments_lexer": "ipython3",
   "version": "3.7.2"
  }
 },
 "nbformat": 4,
 "nbformat_minor": 2
}

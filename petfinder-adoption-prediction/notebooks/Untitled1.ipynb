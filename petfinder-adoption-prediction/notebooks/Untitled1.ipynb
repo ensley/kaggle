{
 "cells": [
  {
   "cell_type": "code",
   "execution_count": 107,
   "metadata": {},
   "outputs": [],
   "source": [
    "import glob\n",
    "import json\n",
    "from pathlib import Path\n",
    "from pprint import pprint as pp\n",
    "\n",
    "import numpy as np\n",
    "import pandas as pd\n",
    "import matplotlib.pyplot as plt\n",
    "\n",
    "pd.set_option('display.max_columns', 999)"
   ]
  },
  {
   "cell_type": "code",
   "execution_count": 14,
   "metadata": {},
   "outputs": [],
   "source": [
    "datadir = Path('../data')\n",
    "train_sentiment_dir = datadir / 'train_sentiment'"
   ]
  },
  {
   "cell_type": "code",
   "execution_count": 18,
   "metadata": {},
   "outputs": [],
   "source": [
    "filepaths = list(train_sentiment_dir.glob('*.json'))"
   ]
  },
  {
   "cell_type": "code",
   "execution_count": 55,
   "metadata": {},
   "outputs": [],
   "source": [
    "ids = []\n",
    "scores = []\n",
    "magnitudes = []"
   ]
  },
  {
   "cell_type": "code",
   "execution_count": 56,
   "metadata": {
    "scrolled": false
   },
   "outputs": [],
   "source": [
    "for filepath in filepaths:\n",
    "    ids.append(filepath.stem)\n",
    "    with open(filepath) as f:\n",
    "        data = json.load(f)\n",
    "        scores.append(data['documentSentiment']['score'])\n",
    "        magnitudes.append(data['documentSentiment']['magnitude'])"
   ]
  },
  {
   "cell_type": "code",
   "execution_count": 57,
   "metadata": {
    "scrolled": true
   },
   "outputs": [],
   "source": [
    "sentiments = pd.DataFrame(data={\n",
    "    'id': ids,\n",
    "    'score': scores,\n",
    "    'magnitude': magnitudes\n",
    "})"
   ]
  },
  {
   "cell_type": "code",
   "execution_count": 58,
   "metadata": {
    "scrolled": true
   },
   "outputs": [
    {
     "data": {
      "text/plain": [
       "<matplotlib.axes._subplots.AxesSubplot at 0x11757af60>"
      ]
     },
     "execution_count": 58,
     "metadata": {},
     "output_type": "execute_result"
    },
    {
     "data": {
      "image/png": "[encoded data removed]",
      "text/plain": [
       "<Figure size 432x288 with 1 Axes>"
      ]
     },
     "metadata": {
      "needs_background": "light"
     },
     "output_type": "display_data"
    }
   ],
   "source": [
    "sentiments.score.hist()"
   ]
  },
  {
   "cell_type": "code",
   "execution_count": 65,
   "metadata": {},
   "outputs": [
    {
     "data": {
      "text/plain": [
       "<matplotlib.axes._subplots.AxesSubplot at 0x11bf7ffd0>"
      ]
     },
     "execution_count": 65,
     "metadata": {},
     "output_type": "execute_result"
    },
    {
     "data": {
      "image/png": "[encoded data removed]",
      "text/plain": [
       "<Figure size 432x288 with 1 Axes>"
      ]
     },
     "metadata": {
      "needs_background": "light"
     },
     "output_type": "display_data"
    }
   ],
   "source": [
    "sentiments.plot(x='magnitude', y='score', kind='scatter')"
   ]
  },
  {
   "cell_type": "code",
   "execution_count": 68,
   "metadata": {},
   "outputs": [],
   "source": [
    "with open(filepaths[100]) as f:\n",
    "    data = json.load(f)\n",
    "    pet_id = filepaths[100].stem"
   ]
  },
  {
   "cell_type": "code",
   "execution_count": 69,
   "metadata": {
    "scrolled": true
   },
   "outputs": [
    {
     "name": "stdout",
     "output_type": "stream",
     "text": [
      "{'categories': [],\n",
      " 'documentSentiment': {'magnitude': 1.9, 'score': 0.9},\n",
      " 'entities': [{'mentions': [{'text': {'beginOffset': -1, 'content': 'people'},\n",
      "                             'type': 'COMMON'}],\n",
      "               'metadata': {},\n",
      "               'name': 'people',\n",
      "               'salience': 0.2371696,\n",
      "               'type': 'PERSON'},\n",
      "              {'mentions': [{'text': {'beginOffset': -1, 'content': 'Loves'},\n",
      "                             'type': 'COMMON'}],\n",
      "               'metadata': {},\n",
      "               'name': 'Loves',\n",
      "               'salience': 0.2371696,\n",
      "               'type': 'OTHER'},\n",
      "              {'mentions': [{'text': {'beginOffset': -1, 'content': 'sleep'},\n",
      "                             'type': 'COMMON'}],\n",
      "               'metadata': {},\n",
      "               'name': 'sleep',\n",
      "               'salience': 0.23434643,\n",
      "               'type': 'OTHER'},\n",
      "              {'mentions': [{'text': {'beginOffset': -1, 'content': 'arms'},\n",
      "                             'type': 'COMMON'}],\n",
      "               'metadata': {},\n",
      "               'name': 'arms',\n",
      "               'salience': 0.21808097,\n",
      "               'type': 'OTHER'},\n",
      "              {'mentions': [{'text': {'beginOffset': -1, 'content': 'lap'},\n",
      "                             'type': 'COMMON'}],\n",
      "               'metadata': {},\n",
      "               'name': 'lap',\n",
      "               'salience': 0.0732334,\n",
      "               'type': 'OTHER'}],\n",
      " 'language': 'en',\n",
      " 'sentences': [{'sentiment': {'magnitude': 0.9, 'score': 0.9},\n",
      "                'text': {'beginOffset': -1,\n",
      "                         'content': 'Very cuddly and loves to be pampered.'}},\n",
      "               {'sentiment': {'magnitude': 0.9, 'score': 0.9},\n",
      "                'text': {'beginOffset': -1,\n",
      "                         'content': 'Will drool during sleep just like some '\n",
      "                                    'people do 😅 Loves to sleep in your arms '\n",
      "                                    'or lap (which will result drooling on '\n",
      "                                    'you) Very playful.'}}],\n",
      " 'tokens': []}\n"
     ]
    }
   ],
   "source": [
    "pp(data)"
   ]
  },
  {
   "cell_type": "code",
   "execution_count": 70,
   "metadata": {},
   "outputs": [
    {
     "data": {
      "text/plain": [
       "'6607c6e22'"
      ]
     },
     "execution_count": 70,
     "metadata": {},
     "output_type": "execute_result"
    }
   ],
   "source": [
    "pet_id"
   ]
  },
  {
   "cell_type": "code",
   "execution_count": 71,
   "metadata": {},
   "outputs": [],
   "source": [
    "train_metadata_dir = datadir / 'train_metadata'"
   ]
  },
  {
   "cell_type": "code",
   "execution_count": 75,
   "metadata": {},
   "outputs": [],
   "source": [
    "filepaths = list(train_metadata_dir.glob('*.json'))"
   ]
  },
  {
   "cell_type": "code",
   "execution_count": 76,
   "metadata": {},
   "outputs": [],
   "source": [
    "with open(filepaths[100]) as f:\n",
    "    data = json.load(f)\n",
    "    pet_id = filepaths[100].stem"
   ]
  },
  {
   "cell_type": "code",
   "execution_count": 84,
   "metadata": {},
   "outputs": [
    {
     "data": {
      "text/html": [
       "<div>\n",
       "<style scoped>\n",
       "    .dataframe tbody tr th:only-of-type {\n",
       "        vertical-align: middle;\n",
       "    }\n",
       "\n",
       "    .dataframe tbody tr th {\n",
       "        vertical-align: top;\n",
       "    }\n",
       "\n",
       "    .dataframe thead th {\n",
       "        text-align: right;\n",
       "    }\n",
       "</style>\n",
       "<table border=\"1\" class=\"dataframe\">\n",
       "  <thead>\n",
       "    <tr style=\"text-align: right;\">\n",
       "      <th></th>\n",
       "      <th>description</th>\n",
       "      <th>score</th>\n",
       "      <th>topicality</th>\n",
       "      <th>pet_id</th>\n",
       "    </tr>\n",
       "    <tr>\n",
       "      <th>mid</th>\n",
       "      <th></th>\n",
       "      <th></th>\n",
       "      <th></th>\n",
       "      <th></th>\n",
       "    </tr>\n",
       "  </thead>\n",
       "  <tbody>\n",
       "    <tr>\n",
       "      <th>/m/0bt9lr</th>\n",
       "      <td>dog</td>\n",
       "      <td>0.963591</td>\n",
       "      <td>0.963591</td>\n",
       "      <td>7133c0c97-2</td>\n",
       "    </tr>\n",
       "    <tr>\n",
       "      <th>/m/01z5f</th>\n",
       "      <td>dog like mammal</td>\n",
       "      <td>0.943229</td>\n",
       "      <td>0.943229</td>\n",
       "      <td>7133c0c97-2</td>\n",
       "    </tr>\n",
       "    <tr>\n",
       "      <th>/m/0kpmf</th>\n",
       "      <td>dog breed</td>\n",
       "      <td>0.933919</td>\n",
       "      <td>0.933919</td>\n",
       "      <td>7133c0c97-2</td>\n",
       "    </tr>\n",
       "    <tr>\n",
       "      <th>/m/02xl47d</th>\n",
       "      <td>dog breed group</td>\n",
       "      <td>0.884401</td>\n",
       "      <td>0.884401</td>\n",
       "      <td>7133c0c97-2</td>\n",
       "    </tr>\n",
       "    <tr>\n",
       "      <th>/m/071jj</th>\n",
       "      <td>siberian husky</td>\n",
       "      <td>0.806374</td>\n",
       "      <td>0.806374</td>\n",
       "      <td>7133c0c97-2</td>\n",
       "    </tr>\n",
       "    <tr>\n",
       "      <th>/m/05mqq3</th>\n",
       "      <td>snout</td>\n",
       "      <td>0.655770</td>\n",
       "      <td>0.655770</td>\n",
       "      <td>7133c0c97-2</td>\n",
       "    </tr>\n",
       "    <tr>\n",
       "      <th>/m/01lrl</th>\n",
       "      <td>carnivoran</td>\n",
       "      <td>0.591264</td>\n",
       "      <td>0.591264</td>\n",
       "      <td>7133c0c97-2</td>\n",
       "    </tr>\n",
       "    <tr>\n",
       "      <th>/m/0d7s3w</th>\n",
       "      <td>puppy</td>\n",
       "      <td>0.560894</td>\n",
       "      <td>0.560894</td>\n",
       "      <td>7133c0c97-2</td>\n",
       "    </tr>\n",
       "  </tbody>\n",
       "</table>\n",
       "</div>"
      ],
      "text/plain": [
       "                description     score  topicality       pet_id\n",
       "mid                                                           \n",
       "/m/0bt9lr               dog  0.963591    0.963591  7133c0c97-2\n",
       "/m/01z5f    dog like mammal  0.943229    0.943229  7133c0c97-2\n",
       "/m/0kpmf          dog breed  0.933919    0.933919  7133c0c97-2\n",
       "/m/02xl47d  dog breed group  0.884401    0.884401  7133c0c97-2\n",
       "/m/071jj     siberian husky  0.806374    0.806374  7133c0c97-2\n",
       "/m/05mqq3             snout  0.655770    0.655770  7133c0c97-2\n",
       "/m/01lrl         carnivoran  0.591264    0.591264  7133c0c97-2\n",
       "/m/0d7s3w             puppy  0.560894    0.560894  7133c0c97-2"
      ]
     },
     "execution_count": 84,
     "metadata": {},
     "output_type": "execute_result"
    }
   ],
   "source": [
    "df = pd.DataFrame(data['labelAnnotations'])\n",
    "df['pet_id'] = pet_id\n",
    "df.set_index('mid')"
   ]
  },
  {
   "cell_type": "code",
   "execution_count": 87,
   "metadata": {},
   "outputs": [],
   "source": [
    "dfs = []\n",
    "for filepath in train_metadata_dir.glob('*.json'):\n",
    "    with open(filepath) as f:\n",
    "        data = json.load(f)\n",
    "        try:\n",
    "            df = pd.DataFrame(data['labelAnnotations'])\n",
    "            df['pet_id'] = filepath.stem\n",
    "            dfs.append(df)\n",
    "        except KeyError:\n",
    "            continue"
   ]
  },
  {
   "cell_type": "code",
   "execution_count": 88,
   "metadata": {},
   "outputs": [
    {
     "data": {
      "text/plain": [
       "58311"
      ]
     },
     "execution_count": 88,
     "metadata": {},
     "output_type": "execute_result"
    }
   ],
   "source": [
    "len(filepaths)"
   ]
  },
  {
   "cell_type": "code",
   "execution_count": 89,
   "metadata": {},
   "outputs": [
    {
     "data": {
      "text/plain": [
       "58299"
      ]
     },
     "execution_count": 89,
     "metadata": {},
     "output_type": "execute_result"
    }
   ],
   "source": [
    "len(dfs)"
   ]
  },
  {
   "cell_type": "code",
   "execution_count": 92,
   "metadata": {},
   "outputs": [],
   "source": [
    "metadata = pd.concat(dfs)"
   ]
  },
  {
   "cell_type": "code",
   "execution_count": 95,
   "metadata": {},
   "outputs": [],
   "source": [
    "metadata.set_index('mid', inplace=True)"
   ]
  },
  {
   "cell_type": "code",
   "execution_count": 96,
   "metadata": {},
   "outputs": [
    {
     "data": {
      "text/html": [
       "<div>\n",
       "<style scoped>\n",
       "    .dataframe tbody tr th:only-of-type {\n",
       "        vertical-align: middle;\n",
       "    }\n",
       "\n",
       "    .dataframe tbody tr th {\n",
       "        vertical-align: top;\n",
       "    }\n",
       "\n",
       "    .dataframe thead th {\n",
       "        text-align: right;\n",
       "    }\n",
       "</style>\n",
       "<table border=\"1\" class=\"dataframe\">\n",
       "  <thead>\n",
       "    <tr style=\"text-align: right;\">\n",
       "      <th></th>\n",
       "      <th>description</th>\n",
       "      <th>score</th>\n",
       "      <th>topicality</th>\n",
       "      <th>pet_id</th>\n",
       "    </tr>\n",
       "    <tr>\n",
       "      <th>mid</th>\n",
       "      <th></th>\n",
       "      <th></th>\n",
       "      <th></th>\n",
       "      <th></th>\n",
       "    </tr>\n",
       "  </thead>\n",
       "  <tbody>\n",
       "    <tr>\n",
       "      <th>/m/035qhg</th>\n",
       "      <td>fauna</td>\n",
       "      <td>0.923040</td>\n",
       "      <td>0.923040</td>\n",
       "      <td>6afe7ee11-3</td>\n",
       "    </tr>\n",
       "    <tr>\n",
       "      <th>/m/06z_nw</th>\n",
       "      <td>tail</td>\n",
       "      <td>0.780109</td>\n",
       "      <td>0.780109</td>\n",
       "      <td>6afe7ee11-3</td>\n",
       "    </tr>\n",
       "    <tr>\n",
       "      <th>/m/02xl47d</th>\n",
       "      <td>dog breed group</td>\n",
       "      <td>0.741457</td>\n",
       "      <td>0.741457</td>\n",
       "      <td>6afe7ee11-3</td>\n",
       "    </tr>\n",
       "    <tr>\n",
       "      <th>/m/01l7qd</th>\n",
       "      <td>whiskers</td>\n",
       "      <td>0.692394</td>\n",
       "      <td>0.692394</td>\n",
       "      <td>6afe7ee11-3</td>\n",
       "    </tr>\n",
       "    <tr>\n",
       "      <th>/m/0cnmr</th>\n",
       "      <td>fur</td>\n",
       "      <td>0.665386</td>\n",
       "      <td>0.665386</td>\n",
       "      <td>6afe7ee11-3</td>\n",
       "    </tr>\n",
       "  </tbody>\n",
       "</table>\n",
       "</div>"
      ],
      "text/plain": [
       "                description     score  topicality       pet_id\n",
       "mid                                                           \n",
       "/m/035qhg             fauna  0.923040    0.923040  6afe7ee11-3\n",
       "/m/06z_nw              tail  0.780109    0.780109  6afe7ee11-3\n",
       "/m/02xl47d  dog breed group  0.741457    0.741457  6afe7ee11-3\n",
       "/m/01l7qd          whiskers  0.692394    0.692394  6afe7ee11-3\n",
       "/m/0cnmr                fur  0.665386    0.665386  6afe7ee11-3"
      ]
     },
     "execution_count": 96,
     "metadata": {},
     "output_type": "execute_result"
    }
   ],
   "source": [
    "metadata.head()"
   ]
  },
  {
   "cell_type": "code",
   "execution_count": 109,
   "metadata": {},
   "outputs": [
    {
     "data": {
      "text/plain": [
       "description\n",
       "donskoy                  0.979222\n",
       "land vehicle             0.979199\n",
       "cat                      0.978604\n",
       "hair                     0.972491\n",
       "blue                     0.968266\n",
       "people                   0.964814\n",
       "red                      0.963095\n",
       "clothing                 0.961446\n",
       "white                    0.959890\n",
       "face                     0.956928\n",
       "black                    0.953421\n",
       "dog                      0.952255\n",
       "photograph               0.952117\n",
       "aqua                     0.949858\n",
       "green                    0.945736\n",
       "hammock                  0.941746\n",
       "nature                   0.941083\n",
       "facial expression        0.938991\n",
       "skin                     0.931678\n",
       "pink                     0.930544\n",
       "footwear                 0.929497\n",
       "yellow                   0.925531\n",
       "dog breed                0.925070\n",
       "mammal                   0.924232\n",
       "road bicycle             0.921476\n",
       "washing machine          0.916307\n",
       "office chair             0.916020\n",
       "woody plant              0.915517\n",
       "meal                     0.914501\n",
       "mountainous landforms    0.914330\n",
       "                           ...   \n",
       "beanie                   0.517530\n",
       "herding dog              0.517266\n",
       "shrubland                0.516832\n",
       "still life               0.516777\n",
       "tibetan mastiff          0.516161\n",
       "dental assistant         0.515506\n",
       "rectangle                0.515346\n",
       "sport utility vehicle    0.515062\n",
       "public utility           0.514603\n",
       "heat                     0.513567\n",
       "label                    0.513566\n",
       "ferns and horsetails     0.513105\n",
       "shower                   0.511661\n",
       "accordion                0.511350\n",
       "furcap                   0.511345\n",
       "black panther            0.511104\n",
       "home door                0.510496\n",
       "polydactyl cat           0.510123\n",
       "deer                     0.509711\n",
       "marble                   0.508669\n",
       "dog food                 0.508553\n",
       "costume design           0.508320\n",
       "balcony                  0.507508\n",
       "medical radiography      0.507151\n",
       "sign                     0.506901\n",
       "hood                     0.506731\n",
       "annual plant             0.503091\n",
       "pointing breed           0.502854\n",
       "academic certificate     0.501868\n",
       "vascular plant           0.501464\n",
       "Name: score, Length: 1290, dtype: float64"
      ]
     },
     "execution_count": 109,
     "metadata": {},
     "output_type": "execute_result"
    }
   ],
   "source": [
    "metadata.groupby('description')['score'].agg(np.mean).sort_values(ascending=False)"
   ]
  },
  {
   "cell_type": "code",
   "execution_count": null,
   "metadata": {},
   "outputs": [],
   "source": []
  }
 ],
 "metadata": {
  "kernelspec": {
   "display_name": "Python 3",
   "language": "python",
   "name": "python3"
  },
  "language_info": {
   "codemirror_mode": {
    "name": "ipython",
    "version": 3
   },
   "file_extension": ".py",
   "mimetype": "text/x-python",
   "name": "python",
   "nbconvert_exporter": "python",
   "pygments_lexer": "ipython3",
   "version": "3.7.2"
  }
 },
 "nbformat": 4,
 "nbformat_minor": 2
}
